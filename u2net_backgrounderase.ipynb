{
  "nbformat": 4,
  "nbformat_minor": 0,
  "metadata": {
    "colab": {
      "provenance": [],
      "authorship_tag": "ABX9TyPFwehXbJqPRX8K/019th2F",
      "include_colab_link": true
    },
    "kernelspec": {
      "name": "python3",
      "display_name": "Python 3"
    },
    "language_info": {
      "name": "python"
    }
  },
  "cells": [
    {
      "cell_type": "markdown",
      "metadata": {
        "id": "view-in-github",
        "colab_type": "text"
      },
      "source": [
        "<a href=\"https://colab.research.google.com/github/astute-ai-gen-ai/harshith/blob/main/u2net_backgrounderase.ipynb\" target=\"_parent\"><img src=\"https://colab.research.google.com/assets/colab-badge.svg\" alt=\"Open In Colab\"/></a>"
      ]
    },
    {
      "cell_type": "code",
      "execution_count": null,
      "metadata": {
        "colab": {
          "base_uri": "https://localhost:8080/"
        },
        "id": "Z0p27QJAcw98",
        "outputId": "5c5c2aa4-6940-4d56-b05e-a6fb4496a3d2"
      },
      "outputs": [
        {
          "output_type": "stream",
          "name": "stdout",
          "text": [
            "Requirement already satisfied: opencv-python-headless in /usr/local/lib/python3.10/dist-packages (4.10.0.84)\n",
            "Requirement already satisfied: numpy>=1.21.2 in /usr/local/lib/python3.10/dist-packages (from opencv-python-headless) (1.26.4)\n",
            "Requirement already satisfied: numpy in /usr/local/lib/python3.10/dist-packages (1.26.4)\n",
            "Collecting onnx\n",
            "  Downloading onnx-1.16.2-cp310-cp310-manylinux_2_17_x86_64.manylinux2014_x86_64.whl.metadata (16 kB)\n",
            "Requirement already satisfied: numpy>=1.20 in /usr/local/lib/python3.10/dist-packages (from onnx) (1.26.4)\n",
            "Requirement already satisfied: protobuf>=3.20.2 in /usr/local/lib/python3.10/dist-packages (from onnx) (3.20.3)\n",
            "Downloading onnx-1.16.2-cp310-cp310-manylinux_2_17_x86_64.manylinux2014_x86_64.whl (15.9 MB)\n",
            "\u001b[2K   \u001b[90m━━━━━━━━━━━━━━━━━━━━━━━━━━━━━━━━━━━━━━━━\u001b[0m \u001b[32m15.9/15.9 MB\u001b[0m \u001b[31m84.5 MB/s\u001b[0m eta \u001b[36m0:00:00\u001b[0m\n",
            "\u001b[?25hInstalling collected packages: onnx\n",
            "Successfully installed onnx-1.16.2\n",
            "Collecting onnxruntime\n",
            "  Downloading onnxruntime-1.19.2-cp310-cp310-manylinux_2_27_x86_64.manylinux_2_28_x86_64.whl.metadata (4.5 kB)\n",
            "Collecting coloredlogs (from onnxruntime)\n",
            "  Downloading coloredlogs-15.0.1-py2.py3-none-any.whl.metadata (12 kB)\n",
            "Requirement already satisfied: flatbuffers in /usr/local/lib/python3.10/dist-packages (from onnxruntime) (24.3.25)\n",
            "Requirement already satisfied: numpy>=1.21.6 in /usr/local/lib/python3.10/dist-packages (from onnxruntime) (1.26.4)\n",
            "Requirement already satisfied: packaging in /usr/local/lib/python3.10/dist-packages (from onnxruntime) (24.1)\n",
            "Requirement already satisfied: protobuf in /usr/local/lib/python3.10/dist-packages (from onnxruntime) (3.20.3)\n",
            "Requirement already satisfied: sympy in /usr/local/lib/python3.10/dist-packages (from onnxruntime) (1.13.2)\n",
            "Collecting humanfriendly>=9.1 (from coloredlogs->onnxruntime)\n",
            "  Downloading humanfriendly-10.0-py2.py3-none-any.whl.metadata (9.2 kB)\n",
            "Requirement already satisfied: mpmath<1.4,>=1.1.0 in /usr/local/lib/python3.10/dist-packages (from sympy->onnxruntime) (1.3.0)\n",
            "Downloading onnxruntime-1.19.2-cp310-cp310-manylinux_2_27_x86_64.manylinux_2_28_x86_64.whl (13.2 MB)\n",
            "\u001b[2K   \u001b[90m━━━━━━━━━━━━━━━━━━━━━━━━━━━━━━━━━━━━━━━━\u001b[0m \u001b[32m13.2/13.2 MB\u001b[0m \u001b[31m74.9 MB/s\u001b[0m eta \u001b[36m0:00:00\u001b[0m\n",
            "\u001b[?25hDownloading coloredlogs-15.0.1-py2.py3-none-any.whl (46 kB)\n",
            "\u001b[2K   \u001b[90m━━━━━━━━━━━━━━━━━━━━━━━━━━━━━━━━━━━━━━━━\u001b[0m \u001b[32m46.0/46.0 kB\u001b[0m \u001b[31m3.1 MB/s\u001b[0m eta \u001b[36m0:00:00\u001b[0m\n",
            "\u001b[?25hDownloading humanfriendly-10.0-py2.py3-none-any.whl (86 kB)\n",
            "\u001b[2K   \u001b[90m━━━━━━━━━━━━━━━━━━━━━━━━━━━━━━━━━━━━━━━━\u001b[0m \u001b[32m86.8/86.8 kB\u001b[0m \u001b[31m6.0 MB/s\u001b[0m eta \u001b[36m0:00:00\u001b[0m\n",
            "\u001b[?25hInstalling collected packages: humanfriendly, coloredlogs, onnxruntime\n",
            "Successfully installed coloredlogs-15.0.1 humanfriendly-10.0 onnxruntime-1.19.2\n"
          ]
        }
      ],
      "source": [
        "# Install OpenCV\n",
        "!pip install opencv-python-headless\n",
        "\n",
        "# Install NumPy\n",
        "!pip install numpy\n",
        "\n",
        "# Install ONNX\n",
        "!pip install onnx\n",
        "\n",
        "# Install ONNX Runtime\n",
        "!pip install onnxruntime\n"
      ]
    },
    {
      "cell_type": "code",
      "source": [
        "!pip install wget"
      ],
      "metadata": {
        "colab": {
          "base_uri": "https://localhost:8080/"
        },
        "id": "Fj7AjZJheSy7",
        "outputId": "b496cdfb-d2e6-450a-eff1-448d93ccf4b2"
      },
      "execution_count": null,
      "outputs": [
        {
          "output_type": "stream",
          "name": "stdout",
          "text": [
            "Collecting wget\n",
            "  Downloading wget-3.2.zip (10 kB)\n",
            "  Preparing metadata (setup.py) ... \u001b[?25l\u001b[?25hdone\n",
            "Building wheels for collected packages: wget\n",
            "  Building wheel for wget (setup.py) ... \u001b[?25l\u001b[?25hdone\n",
            "  Created wheel for wget: filename=wget-3.2-py3-none-any.whl size=9656 sha256=3eaa4c548ecf6e23d06e1c930f7109e5bb8c988538475a9a4a08602b22790c51\n",
            "  Stored in directory: /root/.cache/pip/wheels/8b/f1/7f/5c94f0a7a505ca1c81cd1d9208ae2064675d97582078e6c769\n",
            "Successfully built wget\n",
            "Installing collected packages: wget\n",
            "Successfully installed wget-3.2\n"
          ]
        }
      ]
    },
    {
      "cell_type": "code",
      "source": [
        "!wget -O u2net.onnx https://huggingface.co/spaces/xiongjie/u2net_rgba/resolve/main/u2net.onnx\n"
      ],
      "metadata": {
        "colab": {
          "base_uri": "https://localhost:8080/"
        },
        "id": "9oSgu4Y9e2Hg",
        "outputId": "8e23859b-20d9-4fb8-a683-96768363c251"
      },
      "execution_count": null,
      "outputs": [
        {
          "output_type": "stream",
          "name": "stdout",
          "text": [
            "--2024-09-07 16:15:18--  https://huggingface.co/spaces/xiongjie/u2net_rgba/resolve/main/u2net.onnx\n",
            "Resolving huggingface.co (huggingface.co)... 18.154.227.87, 18.154.227.67, 18.154.227.7, ...\n",
            "Connecting to huggingface.co (huggingface.co)|18.154.227.87|:443... connected.\n",
            "HTTP request sent, awaiting response... 302 Found\n",
            "Location: https://cdn-lfs.huggingface.co/spaces/xiongjie/u2net_rgba/309ea1fc458e8f6711efb645da85d1cc2a9cd2aec261d379bba31c0a0ddc78af?response-content-disposition=inline%3B+filename*%3DUTF-8%27%27u2net.onnx%3B+filename%3D%22u2net.onnx%22%3B&Expires=1725984918&Policy=eyJTdGF0ZW1lbnQiOlt7IkNvbmRpdGlvbiI6eyJEYXRlTGVzc1RoYW4iOnsiQVdTOkVwb2NoVGltZSI6MTcyNTk4NDkxOH19LCJSZXNvdXJjZSI6Imh0dHBzOi8vY2RuLWxmcy5odWdnaW5nZmFjZS5jby9zcGFjZXMveGlvbmdqaWUvdTJuZXRfcmdiYS8zMDllYTFmYzQ1OGU4ZjY3MTFlZmI2NDVkYTg1ZDFjYzJhOWNkMmFlYzI2MWQzNzliYmEzMWMwYTBkZGM3OGFmP3Jlc3BvbnNlLWNvbnRlbnQtZGlzcG9zaXRpb249KiJ9XX0_&Signature=M6npPI7JBBC7oo8Vb8oSk2jXTt%7Efs66r61m9GKBnrW3j-JdRMEEpzbe8dReJx4QNHgqBaH1%7E1x3EtTLdZaOdfbdf4f5-oWwSbg0DLTDOsdYPxn6LtpA7oJjSrDCoKl2bpmsa3RbSk8YROAUzQsfyXtSq49svV1zxV5XlPLjZTMsttbayfoX6ryxbxzZww4n50%7EaCGhC3vW3Ys1mhMJPrnDqxR182lyCTKOShnt7e3FDqkF7fIWr%7EeJa5urT6eoVePgrD1w-LxdgpV88jhLh7iMAb7yYUygKR4O%7EMasyuzR663r7rnyguUdJG1fubp7pQWqZNj0HwoVe6X0KgNETBbg__&Key-Pair-Id=K3ESJI6DHPFC7 [following]\n",
            "--2024-09-07 16:15:18--  https://cdn-lfs.huggingface.co/spaces/xiongjie/u2net_rgba/309ea1fc458e8f6711efb645da85d1cc2a9cd2aec261d379bba31c0a0ddc78af?response-content-disposition=inline%3B+filename*%3DUTF-8%27%27u2net.onnx%3B+filename%3D%22u2net.onnx%22%3B&Expires=1725984918&Policy=eyJTdGF0ZW1lbnQiOlt7IkNvbmRpdGlvbiI6eyJEYXRlTGVzc1RoYW4iOnsiQVdTOkVwb2NoVGltZSI6MTcyNTk4NDkxOH19LCJSZXNvdXJjZSI6Imh0dHBzOi8vY2RuLWxmcy5odWdnaW5nZmFjZS5jby9zcGFjZXMveGlvbmdqaWUvdTJuZXRfcmdiYS8zMDllYTFmYzQ1OGU4ZjY3MTFlZmI2NDVkYTg1ZDFjYzJhOWNkMmFlYzI2MWQzNzliYmEzMWMwYTBkZGM3OGFmP3Jlc3BvbnNlLWNvbnRlbnQtZGlzcG9zaXRpb249KiJ9XX0_&Signature=M6npPI7JBBC7oo8Vb8oSk2jXTt%7Efs66r61m9GKBnrW3j-JdRMEEpzbe8dReJx4QNHgqBaH1%7E1x3EtTLdZaOdfbdf4f5-oWwSbg0DLTDOsdYPxn6LtpA7oJjSrDCoKl2bpmsa3RbSk8YROAUzQsfyXtSq49svV1zxV5XlPLjZTMsttbayfoX6ryxbxzZww4n50%7EaCGhC3vW3Ys1mhMJPrnDqxR182lyCTKOShnt7e3FDqkF7fIWr%7EeJa5urT6eoVePgrD1w-LxdgpV88jhLh7iMAb7yYUygKR4O%7EMasyuzR663r7rnyguUdJG1fubp7pQWqZNj0HwoVe6X0KgNETBbg__&Key-Pair-Id=K3ESJI6DHPFC7\n",
            "Resolving cdn-lfs.huggingface.co (cdn-lfs.huggingface.co)... 3.168.122.86, 3.168.122.2, 3.168.122.120, ...\n",
            "Connecting to cdn-lfs.huggingface.co (cdn-lfs.huggingface.co)|3.168.122.86|:443... connected.\n",
            "HTTP request sent, awaiting response... 200 OK\n",
            "Length: 175995934 (168M) [application/octet-stream]\n",
            "Saving to: ‘u2net.onnx’\n",
            "\n",
            "u2net.onnx          100%[===================>] 167.84M  89.9MB/s    in 1.9s    \n",
            "\n",
            "2024-09-07 16:15:20 (89.9 MB/s) - ‘u2net.onnx’ saved [175995934/175995934]\n",
            "\n"
          ]
        }
      ]
    },
    {
      "cell_type": "code",
      "source": [
        "!ls -lh u2net.onnx\n"
      ],
      "metadata": {
        "colab": {
          "base_uri": "https://localhost:8080/"
        },
        "id": "UNTEcH6tfdV3",
        "outputId": "b4969b67-f8d0-48d8-c46a-6bb03e2612cb"
      },
      "execution_count": null,
      "outputs": [
        {
          "output_type": "stream",
          "name": "stdout",
          "text": [
            "-rw-r--r-- 1 root root 168M Dec 25  2021 u2net.onnx\n"
          ]
        }
      ]
    },
    {
      "cell_type": "code",
      "source": [
        "import cv2\n",
        "import numpy as np\n",
        "import wget"
      ],
      "metadata": {
        "id": "Ybz7YdZ6dfB9"
      },
      "execution_count": null,
      "outputs": []
    },
    {
      "cell_type": "code",
      "source": [
        "def preprocess_image(image_path):\n",
        "    image = cv2.imread(image_path)\n",
        "    hsv_image = cv2.cvtColor(image, cv2.COLOR_BGR2HSV)\n",
        "    h, s, v = cv2.split(hsv_image)\n",
        "    v = cv2.equalizeHist(v)\n",
        "    enhanced_image = cv2.merge((h, s, v))\n",
        "    enhanced_image = cv2.cvtColor(enhanced_image, cv2.COLOR_HSV2BGR)\n",
        "    cv2.imwrite('enhanced_product.jpg', enhanced_image)\n",
        "    return 'enhanced_product.jpg'\n",
        "\n",
        "def remove_background(image_path):\n",
        "    image = cv2.imread(image_path)\n",
        "    segmentation_model = cv2.dnn.readNetFromONNX('/content/u2net.onnx')  # Use absolute path\n",
        "    blob = cv2.dnn.blobFromImage(image, scalefactor=1.0/255.0, size=(320, 320), mean=(0, 0, 0), swapRB=True, crop=False)\n",
        "    segmentation_model.setInput(blob)\n",
        "    mask = segmentation_model.forward()\n",
        "    mask = mask.squeeze()\n",
        "    mask = cv2.resize(mask, (image.shape[1], image.shape[0]))\n",
        "    mask = (mask > 0.5).astype(np.uint8) * 255\n",
        "    segmented_image = cv2.bitwise_and(image, image, mask=mask)\n",
        "    cv2.imwrite('product_without_background.png', segmented_image)\n",
        "    return mask\n",
        "\n",
        "def replace_background(mask, new_bg_path):\n",
        "    product_image = cv2.imread('product_without_background.png')\n",
        "    background_image = cv2.imread(new_bg_path)\n",
        "\n",
        "    # Check if background image is loaded correctly\n",
        "    if background_image is None:\n",
        "        raise ValueError(f\"Could not load the background image from path: {new_bg_path}\")\n",
        "\n",
        "    background_image = cv2.resize(background_image, (product_image.shape[1], product_image.shape[0]))\n",
        "    mask_inv = cv2.bitwise_not(mask)\n",
        "    bg_portion = cv2.bitwise_and(background_image, background_image, mask=mask_inv)\n",
        "    final_image = cv2.add(bg_portion, product_image)\n",
        "    cv2.imwrite('final_product_image.jpg', final_image)\n",
        "\n",
        "\n",
        "def upscale_image(image_path):\n",
        "    image = cv2.imread(image_path)\n",
        "    upscaled_image = cv2.resize(image, (0, 0), fx=2, fy=2, interpolation=cv2.INTER_CUBIC)\n",
        "    cv2.imwrite('enhanced_final_product_image.jpg', upscaled_image)\n",
        "\n"
      ],
      "metadata": {
        "id": "KsXZxxprc87W"
      },
      "execution_count": null,
      "outputs": []
    },
    {
      "cell_type": "code",
      "source": [
        "# Run the full pipeline\n",
        "# enhanced_image_path = preprocess_image('/content/product.jpg')\n",
        "# mask = remove_background(enhanced_image_path)\n",
        "mask = remove_background('/content/product.jpg')\n",
        "\n",
        "replace_background(mask, '/content/background.jpg')\n",
        "upscale_image('final_product_image.jpg')\n"
      ],
      "metadata": {
        "id": "inpJpBBzdTkS"
      },
      "execution_count": null,
      "outputs": []
    },
    {
      "cell_type": "code",
      "source": [],
      "metadata": {
        "id": "8_Kn5vUeqS8J"
      },
      "execution_count": null,
      "outputs": []
    }
  ]
}